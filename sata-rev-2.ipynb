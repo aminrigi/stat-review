{
 "cells": [
  {
   "cell_type": "markdown",
   "metadata": {},
   "source": [
    "# Stats Review\n",
    "\n",
    "### Z-Score and outlier removal\n",
    "\n",
    "\n",
    "To find outliers in the data, we will first create a new column called `Z_SCORE`. A z-score is useful because it tells you where a value lies in a distribution. \n",
    "\n",
    "Data professionals often use z-scores for outlier detection. Typically, they consider observations with a z-score smaller than -3 or larger than +3 as outliers. In other words, these are values that lie more than +/- 3 SDs from the mean.  \n",
    "\n",
    "Then, we will compute the z-scores using the function `scipy.stats.zscore()`. \n",
    "\n",
    "**Reference**: [scipy.stats.zscore](https://docs.scipy.org/doc/scipy/reference/generated/scipy.stats.zscore.html)"
   ]
  },
  {
   "cell_type": "code",
   "execution_count": 2,
   "metadata": {},
   "outputs": [],
   "source": [
    "import numpy as np\n",
    "import pandas as pd\n",
    "import matplotlib.pyplot as plt\n",
    "from scipy import stats"
   ]
  },
  {
   "cell_type": "code",
   "execution_count": 3,
   "metadata": {},
   "outputs": [],
   "source": [
    "df = pd.read_csv('data/education_districtwise.csv')\n",
    "df = df.dropna()"
   ]
  },
  {
   "cell_type": "code",
   "execution_count": 5,
   "metadata": {},
   "outputs": [
    {
     "data": {
      "text/html": [
       "<div>\n",
       "<style scoped>\n",
       "    .dataframe tbody tr th:only-of-type {\n",
       "        vertical-align: middle;\n",
       "    }\n",
       "\n",
       "    .dataframe tbody tr th {\n",
       "        vertical-align: top;\n",
       "    }\n",
       "\n",
       "    .dataframe thead th {\n",
       "        text-align: right;\n",
       "    }\n",
       "</style>\n",
       "<table border=\"1\" class=\"dataframe\">\n",
       "  <thead>\n",
       "    <tr style=\"text-align: right;\">\n",
       "      <th></th>\n",
       "      <th>BLOCKS</th>\n",
       "      <th>VILLAGES</th>\n",
       "      <th>CLUSTERS</th>\n",
       "      <th>TOTPOPULAT</th>\n",
       "      <th>OVERALL_LI</th>\n",
       "    </tr>\n",
       "  </thead>\n",
       "  <tbody>\n",
       "    <tr>\n",
       "      <th>count</th>\n",
       "      <td>634.000000</td>\n",
       "      <td>634.000000</td>\n",
       "      <td>634.000000</td>\n",
       "      <td>6.340000e+02</td>\n",
       "      <td>634.000000</td>\n",
       "    </tr>\n",
       "    <tr>\n",
       "      <th>mean</th>\n",
       "      <td>11.118297</td>\n",
       "      <td>899.619874</td>\n",
       "      <td>124.610410</td>\n",
       "      <td>1.899024e+06</td>\n",
       "      <td>73.395189</td>\n",
       "    </tr>\n",
       "    <tr>\n",
       "      <th>std</th>\n",
       "      <td>9.799581</td>\n",
       "      <td>632.473675</td>\n",
       "      <td>95.821688</td>\n",
       "      <td>1.547475e+06</td>\n",
       "      <td>10.098460</td>\n",
       "    </tr>\n",
       "    <tr>\n",
       "      <th>min</th>\n",
       "      <td>1.000000</td>\n",
       "      <td>6.000000</td>\n",
       "      <td>1.000000</td>\n",
       "      <td>7.948000e+03</td>\n",
       "      <td>37.220000</td>\n",
       "    </tr>\n",
       "    <tr>\n",
       "      <th>25%</th>\n",
       "      <td>6.000000</td>\n",
       "      <td>396.750000</td>\n",
       "      <td>60.000000</td>\n",
       "      <td>8.226940e+05</td>\n",
       "      <td>66.437500</td>\n",
       "    </tr>\n",
       "    <tr>\n",
       "      <th>50%</th>\n",
       "      <td>8.000000</td>\n",
       "      <td>816.500000</td>\n",
       "      <td>105.000000</td>\n",
       "      <td>1.564392e+06</td>\n",
       "      <td>73.490000</td>\n",
       "    </tr>\n",
       "    <tr>\n",
       "      <th>75%</th>\n",
       "      <td>13.000000</td>\n",
       "      <td>1231.500000</td>\n",
       "      <td>167.000000</td>\n",
       "      <td>2.587520e+06</td>\n",
       "      <td>80.815000</td>\n",
       "    </tr>\n",
       "    <tr>\n",
       "      <th>max</th>\n",
       "      <td>66.000000</td>\n",
       "      <td>3963.000000</td>\n",
       "      <td>592.000000</td>\n",
       "      <td>1.105413e+07</td>\n",
       "      <td>98.760000</td>\n",
       "    </tr>\n",
       "  </tbody>\n",
       "</table>\n",
       "</div>"
      ],
      "text/plain": [
       "           BLOCKS     VILLAGES    CLUSTERS    TOTPOPULAT  OVERALL_LI\n",
       "count  634.000000   634.000000  634.000000  6.340000e+02  634.000000\n",
       "mean    11.118297   899.619874  124.610410  1.899024e+06   73.395189\n",
       "std      9.799581   632.473675   95.821688  1.547475e+06   10.098460\n",
       "min      1.000000     6.000000    1.000000  7.948000e+03   37.220000\n",
       "25%      6.000000   396.750000   60.000000  8.226940e+05   66.437500\n",
       "50%      8.000000   816.500000  105.000000  1.564392e+06   73.490000\n",
       "75%     13.000000  1231.500000  167.000000  2.587520e+06   80.815000\n",
       "max     66.000000  3963.000000  592.000000  1.105413e+07   98.760000"
      ]
     },
     "execution_count": 5,
     "metadata": {},
     "output_type": "execute_result"
    }
   ],
   "source": [
    "df.describe()"
   ]
  },
  {
   "cell_type": "code",
   "execution_count": 6,
   "metadata": {},
   "outputs": [
    {
     "data": {
      "text/plain": [
       "(634, 7)"
      ]
     },
     "execution_count": 6,
     "metadata": {},
     "output_type": "execute_result"
    }
   ],
   "source": [
    "df.shape"
   ]
  },
  {
   "cell_type": "code",
   "execution_count": 7,
   "metadata": {},
   "outputs": [
    {
     "data": {
      "text/html": [
       "<div>\n",
       "<style scoped>\n",
       "    .dataframe tbody tr th:only-of-type {\n",
       "        vertical-align: middle;\n",
       "    }\n",
       "\n",
       "    .dataframe tbody tr th {\n",
       "        vertical-align: top;\n",
       "    }\n",
       "\n",
       "    .dataframe thead th {\n",
       "        text-align: right;\n",
       "    }\n",
       "</style>\n",
       "<table border=\"1\" class=\"dataframe\">\n",
       "  <thead>\n",
       "    <tr style=\"text-align: right;\">\n",
       "      <th></th>\n",
       "      <th>BLOCKS</th>\n",
       "      <th>VILLAGES</th>\n",
       "      <th>CLUSTERS</th>\n",
       "      <th>TOTPOPULAT</th>\n",
       "      <th>OVERALL_LI</th>\n",
       "    </tr>\n",
       "  </thead>\n",
       "  <tbody>\n",
       "    <tr>\n",
       "      <th>count</th>\n",
       "      <td>50.000000</td>\n",
       "      <td>50.000000</td>\n",
       "      <td>50.000000</td>\n",
       "      <td>5.000000e+01</td>\n",
       "      <td>50.000000</td>\n",
       "    </tr>\n",
       "    <tr>\n",
       "      <th>mean</th>\n",
       "      <td>9.980000</td>\n",
       "      <td>873.180000</td>\n",
       "      <td>124.780000</td>\n",
       "      <td>1.864319e+06</td>\n",
       "      <td>74.720000</td>\n",
       "    </tr>\n",
       "    <tr>\n",
       "      <th>std</th>\n",
       "      <td>7.095529</td>\n",
       "      <td>634.921711</td>\n",
       "      <td>85.754583</td>\n",
       "      <td>1.737061e+06</td>\n",
       "      <td>11.027219</td>\n",
       "    </tr>\n",
       "    <tr>\n",
       "      <th>min</th>\n",
       "      <td>1.000000</td>\n",
       "      <td>26.000000</td>\n",
       "      <td>4.000000</td>\n",
       "      <td>7.948000e+03</td>\n",
       "      <td>50.230000</td>\n",
       "    </tr>\n",
       "    <tr>\n",
       "      <th>25%</th>\n",
       "      <td>5.250000</td>\n",
       "      <td>490.250000</td>\n",
       "      <td>64.750000</td>\n",
       "      <td>9.744148e+05</td>\n",
       "      <td>65.575000</td>\n",
       "    </tr>\n",
       "    <tr>\n",
       "      <th>50%</th>\n",
       "      <td>9.000000</td>\n",
       "      <td>777.500000</td>\n",
       "      <td>119.000000</td>\n",
       "      <td>1.515408e+06</td>\n",
       "      <td>74.760000</td>\n",
       "    </tr>\n",
       "    <tr>\n",
       "      <th>75%</th>\n",
       "      <td>12.000000</td>\n",
       "      <td>1171.250000</td>\n",
       "      <td>167.750000</td>\n",
       "      <td>2.522038e+06</td>\n",
       "      <td>84.020000</td>\n",
       "    </tr>\n",
       "    <tr>\n",
       "      <th>max</th>\n",
       "      <td>38.000000</td>\n",
       "      <td>3430.000000</td>\n",
       "      <td>397.000000</td>\n",
       "      <td>1.105413e+07</td>\n",
       "      <td>95.410000</td>\n",
       "    </tr>\n",
       "  </tbody>\n",
       "</table>\n",
       "</div>"
      ],
      "text/plain": [
       "          BLOCKS     VILLAGES    CLUSTERS    TOTPOPULAT  OVERALL_LI\n",
       "count  50.000000    50.000000   50.000000  5.000000e+01   50.000000\n",
       "mean    9.980000   873.180000  124.780000  1.864319e+06   74.720000\n",
       "std     7.095529   634.921711   85.754583  1.737061e+06   11.027219\n",
       "min     1.000000    26.000000    4.000000  7.948000e+03   50.230000\n",
       "25%     5.250000   490.250000   64.750000  9.744148e+05   65.575000\n",
       "50%     9.000000   777.500000  119.000000  1.515408e+06   74.760000\n",
       "75%    12.000000  1171.250000  167.750000  2.522038e+06   84.020000\n",
       "max    38.000000  3430.000000  397.000000  1.105413e+07   95.410000"
      ]
     },
     "execution_count": 7,
     "metadata": {},
     "output_type": "execute_result"
    }
   ],
   "source": [
    "# sampling\n",
    "sample_df = df.sample(50, replace=True)\n",
    "sample_df.describe()"
   ]
  },
  {
   "cell_type": "code",
   "execution_count": 8,
   "metadata": {},
   "outputs": [
    {
     "data": {
      "text/plain": [
       "count    6.340000e+02\n",
       "mean    -8.293401e-16\n",
       "std      1.000790e+00\n",
       "min     -3.585076e+00\n",
       "25%     -6.895292e-01\n",
       "50%      9.396045e-03\n",
       "75%      7.353269e-01\n",
       "max      2.513733e+00\n",
       "Name: li_z_score, dtype: float64"
      ]
     },
     "execution_count": 8,
     "metadata": {},
     "output_type": "execute_result"
    }
   ],
   "source": [
    "df['li_z_score'] = stats.zscore(df['OVERALL_LI'])\n",
    "df['li_z_score'].describe()"
   ]
  },
  {
   "cell_type": "code",
   "execution_count": 9,
   "metadata": {},
   "outputs": [
    {
     "data": {
      "text/plain": [
       "<Axes: >"
      ]
     },
     "execution_count": 9,
     "metadata": {},
     "output_type": "execute_result"
    },
    {
     "data": {
      "image/png": "[encoded data removed]",
      "text/plain": [
       "<Figure size 640x480 with 1 Axes>"
      ]
     },
     "metadata": {},
     "output_type": "display_data"
    }
   ],
   "source": [
    "df['li_z_score'].hist()"
   ]
  },
  {
   "cell_type": "markdown",
   "metadata": {},
   "source": [
    "## Confidence Intervals\n",
    "\n",
    "We use the below function from stats.norm\n",
    "\n",
    "### scipy.stats.norm.interval(alpha=confidence level,  loc=data.mean(), scale=sample_standard_error)\n",
    "\n",
    "**Sample Standard Error** = sample.sd / sqrt(n)  or sqrt(p(1-p)/n)\n",
    "\n"
   ]
  },
  {
   "cell_type": "code",
   "execution_count": 11,
   "metadata": {},
   "outputs": [
    {
     "data": {
      "text/plain": [
       "(74.62220976791097, 74.81779023208902)"
      ]
     },
     "execution_count": 11,
     "metadata": {},
     "output_type": "execute_result"
    }
   ],
   "source": [
    "stats.norm.interval(.05, sample_df['OVERALL_LI'].mean(), sample_df['OVERALL_LI'].std()/np.sqrt(sample_df['OVERALL_LI'].shape[0]))"
   ]
  },
  {
   "cell_type": "code",
   "execution_count": 13,
   "metadata": {},
   "outputs": [
    {
     "data": {
      "text/plain": [
       "(74.52403310971094, 74.91596689028906)"
      ]
     },
     "execution_count": 13,
     "metadata": {},
     "output_type": "execute_result"
    }
   ],
   "source": [
    "stats.norm.interval(.1, sample_df['OVERALL_LI'].mean(), sample_df['OVERALL_LI'].std()/np.sqrt(sample_df['OVERALL_LI'].shape[0]))"
   ]
  },
  {
   "cell_type": "markdown",
   "metadata": {},
   "source": [
    "# Hypothesis testing\n",
    "\n",
    "### 1. One-Sample ttest\n",
    "\n",
    "**stats.ttest_1samp(rvs, popmean=0.5, alternative='greater')** # alternative = {‘two-sided’, ‘less’, ‘greater’}"
   ]
  },
  {
   "cell_type": "code",
   "execution_count": 49,
   "metadata": {},
   "outputs": [
    {
     "data": {
      "text/plain": [
       "TtestResult(statistic=0.8495186831962375, pvalue=0.19986219622430862, df=49)"
      ]
     },
     "execution_count": 49,
     "metadata": {},
     "output_type": "execute_result"
    }
   ],
   "source": [
    "# Null Hypothesis: no change; alternative: sample has a greater overal_li than pop\n",
    "\n",
    "stats.ttest_1samp(sample_df['OVERALL_LI'], popmean=73.395189, alternative='greater')"
   ]
  },
  {
   "cell_type": "markdown",
   "metadata": {},
   "source": [
    "### 2. Two-Sample ttest\n",
    "\n",
    "**scipy.stats.ttest_ind(a=observations 1st sample, b=obervations 2nd sample, equal_var=False)**"
   ]
  },
  {
   "cell_type": "code",
   "execution_count": 15,
   "metadata": {},
   "outputs": [
    {
     "data": {
      "text/plain": [
       "Ttest_indResult(statistic=1.642945789407739, pvalue=0.10455299103052379)"
      ]
     },
     "execution_count": 15,
     "metadata": {},
     "output_type": "execute_result"
    }
   ],
   "source": [
    "stats.ttest_ind(df['OVERALL_LI'].sample(50), df['OVERALL_LI'].sample(33), equal_var=False)"
   ]
  },
  {
   "cell_type": "markdown",
   "metadata": {},
   "source": [
    "### 3. One-Sample ztest (Proportions)\n",
    "\n",
    "1. Calculate the sample proportion\n",
    "p_hat = x/n\n",
    "\n",
    "2. Calculate the test statistic\n",
    "test_stat = (p_hat-p)/(math.sqrt((p*(1-p))/(n)))\n",
    "\n",
    "3. Output the p-value of the test statistic\n",
    "*  right tailed test: print(**1-stats.norm.cdf(test_stat)**)\n",
    "* left tailed test: print(**stats.norm.cdf(test_stat)**)\n",
    "* Two-tailed test: print(**2*stats.norm.cdf(test_stat)**)"
   ]
  },
  {
   "cell_type": "code",
   "execution_count": 26,
   "metadata": {},
   "outputs": [
    {
     "name": "stdout",
     "output_type": "stream",
     "text": [
      "proportion of converted in pop = 0.0967741935483871\n",
      "proportion of converted in sample = 0.16\n"
     ]
    },
    {
     "data": {
      "text/plain": [
       "<Axes: >"
      ]
     },
     "execution_count": 26,
     "metadata": {},
     "output_type": "execute_result"
    },
    {
     "data": {
      "image/png": "[encoded data removed]",
      "text/plain": [
       "<Figure size 640x480 with 1 Axes>"
      ]
     },
     "metadata": {},
     "output_type": "display_data"
    }
   ],
   "source": [
    "#loading and preparing the data\n",
    "ab_data = pd.read_csv('data/ab_data.csv')\n",
    "p_data = ab_data[ab_data['group']=='A']\n",
    "print(f\"proportion of converted in pop = {p_data[p_data['converted']==1].shape[0]/p_data.shape[0]}\")\n",
    "\n",
    "p_data_sample = p_data.sample(50) # sampling\n",
    "print(f\"proportion of converted in sample = {p_data_sample[p_data_sample['converted']==1].shape[0]/p_data_sample.shape[0]}\")\n",
    "p_data['converted'].hist()"
   ]
  },
  {
   "cell_type": "code",
   "execution_count": 39,
   "metadata": {},
   "outputs": [
    {
     "name": "stdout",
     "output_type": "stream",
     "text": [
      "p-value: 0.0652\n"
     ]
    }
   ],
   "source": [
    "# Null Hypothese: proportion hasn't changed\n",
    "# H1: The prportion has increaded\n",
    "n=50\n",
    "p = p_data[p_data['converted']==1].shape[0]/p_data.shape[0]\n",
    "p_hat = p_data_sample[p_data_sample['converted']==1].shape[0]/p_data_sample.shape[0]\n",
    "test_stat = (p_hat-p)/(np.sqrt((p*(1-p))/(n)))\n",
    "\n",
    "print(f\"p-value: {1-stats.norm.cdf(test_stat):.4f}\")\n"
   ]
  },
  {
   "cell_type": "markdown",
   "metadata": {},
   "source": [
    "### 4. Two-Sample ztest (Proportions)"
   ]
  },
  {
   "cell_type": "code",
   "execution_count": 42,
   "metadata": {},
   "outputs": [
    {
     "data": {
      "text/plain": [
       "(93, 961, 101, 1039)"
      ]
     },
     "execution_count": 42,
     "metadata": {},
     "output_type": "execute_result"
    }
   ],
   "source": [
    "# prepare the data\n",
    "ab_data = pd.read_csv('data/ab_data.csv')\n",
    "x_A = ab_data.loc[(ab_data['group']=='A')&(ab_data['converted']==1)].shape[0]\n",
    "n_A = ab_data.loc[(ab_data['group']=='A')].shape[0]\n",
    "\n",
    "x_B = ab_data.loc[(ab_data['group']=='B')&(ab_data['converted']==1)].shape[0]\n",
    "n_B = ab_data.loc[(ab_data['group']=='B')].shape[0]\n",
    "\n",
    "x_B=101\n",
    "x_A, n_A, x_B, n_B"
   ]
  },
  {
   "cell_type": "code",
   "execution_count": 51,
   "metadata": {},
   "outputs": [
    {
     "name": "stdout",
     "output_type": "stream",
     "text": [
      "p-value: (greater) 0.5131\n",
      "p-value: (two-sided) 0.9738\n"
     ]
    }
   ],
   "source": [
    "p_hat_A = x_A/n_A\n",
    "p_hat_B = x_B/n_B\n",
    "\n",
    "pooled_p = (x_A+x_B)/(n_A+n_B)\n",
    "\n",
    "pooled_std_error = np.sqrt( pooled_p*(1-pooled_p)*((1/n_A)+(1/n_B)) )\n",
    "\n",
    "z_val = (p_hat_A-p_hat_B)/pooled_std_error\n",
    "\n",
    "print(f\"p-value: (greater) {1-stats.norm.cdf(z_val):.4f}\")\n",
    "\n",
    "print(f\"p-value: (two-sided) {2*(stats.norm.cdf(z_val)):.4f}\")"
   ]
  },
  {
   "cell_type": "code",
   "execution_count": 37,
   "metadata": {},
   "outputs": [
    {
     "data": {
      "text/plain": [
       "6.423783727171894e-11"
      ]
     },
     "execution_count": 37,
     "metadata": {},
     "output_type": "execute_result"
    }
   ],
   "source": []
  },
  {
   "cell_type": "code",
   "execution_count": 47,
   "metadata": {},
   "outputs": [
    {
     "data": {
      "text/plain": [
       "(-0.032815235231003916, 0.9738219287985949)"
      ]
     },
     "execution_count": 47,
     "metadata": {},
     "output_type": "execute_result"
    }
   ],
   "source": [
    "from statsmodels.stats.proportion import proportions_ztest\n",
    "\n",
    "proportions_ztest([x_A, x_B],[n_A, n_B], alternative='two-sided')"
   ]
  },
  {
   "cell_type": "code",
   "execution_count": null,
   "metadata": {},
   "outputs": [],
   "source": []
  }
 ],
 "metadata": {
  "kernelspec": {
   "display_name": ".venv",
   "language": "python",
   "name": "python3"
  },
  "language_info": {
   "codemirror_mode": {
    "name": "ipython",
    "version": 3
   },
   "file_extension": ".py",
   "mimetype": "text/x-python",
   "name": "python",
   "nbconvert_exporter": "python",
   "pygments_lexer": "ipython3",
   "version": "3.8.10"
  }
 },
 "nbformat": 4,
 "nbformat_minor": 2
}
